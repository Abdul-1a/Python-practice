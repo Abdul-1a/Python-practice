{
 "cells": [
  {
   "cell_type": "markdown",
   "id": "38e24222",
   "metadata": {},
   "source": [
    "# if condition tutorials"
   ]
  },
  {
   "cell_type": "code",
   "execution_count": 1,
   "id": "44fa80f5",
   "metadata": {},
   "outputs": [
    {
     "name": "stdout",
     "output_type": "stream",
     "text": [
      "enter any number5\n",
      "entered number is odd\n"
     ]
    }
   ],
   "source": [
    "#control statement\n",
    "#write a program to check whether a number is odd/even?\n",
    "a = int(input(\"enter any number\"))\n",
    "if a%2==0:\n",
    "    print(\"entered number is even\")\n",
    "else:\n",
    "    print(\"entered number is odd\")"
   ]
  },
  {
   "cell_type": "code",
   "execution_count": 3,
   "id": "155e1047",
   "metadata": {},
   "outputs": [
    {
     "name": "stdout",
     "output_type": "stream",
     "text": [
      "enter the age17\n",
      "not eligible to vote\n"
     ]
    }
   ],
   "source": [
    "#control statement\n",
    "#write a program to check whether an age is eligible to vote or not?\n",
    "age = int(input('enter the age'))\n",
    "if age >= 18:\n",
    "    print('eligible for vote')\n",
    "else:\n",
    "    print('not eligible to vote')"
   ]
  },
  {
   "cell_type": "code",
   "execution_count": 4,
   "id": "6ff768b1",
   "metadata": {},
   "outputs": [
    {
     "name": "stdout",
     "output_type": "stream",
     "text": [
      "enter 1st number:56\n",
      "enter 2nd number:72\n",
      "b is max number: 72\n"
     ]
    }
   ],
   "source": [
    "#write a program to find max number\n",
    "a = int(input('enter 1st number:'))\n",
    "b = int(input('enter 2nd number:'))\n",
    "if a>b:\n",
    "    print(\"a is max number:\",a)\n",
    "else:\n",
    "    print(\"b is max number:\",b)"
   ]
  },
  {
   "cell_type": "code",
   "execution_count": 10,
   "id": "a6b721d9",
   "metadata": {},
   "outputs": [
    {
     "name": "stdout",
     "output_type": "stream",
     "text": [
      "enter 1st number:1\n",
      "enter 2nd number:10\n",
      "enter 3rd number100\n",
      "c is max number: 100\n"
     ]
    }
   ],
   "source": [
    "#write a program to find max number between 3 numbers\n",
    "a = int(input('enter 1st number:'))\n",
    "b = int(input('enter 2nd number:'))\n",
    "c = int(input('enter 3rd number'))\n",
    "if (a>b) and (a>c):\n",
    "    print(\"a is max number:\",a)\n",
    "elif (b>a) and (b>c):\n",
    "        print(\"b is max number:\",b)\n",
    "else:\n",
    "    print(\"c is max number:\",c)\n",
    "        \n",
    "        "
   ]
  },
  {
   "cell_type": "code",
   "execution_count": 13,
   "id": "95a3895e",
   "metadata": {},
   "outputs": [
    {
     "name": "stdout",
     "output_type": "stream",
     "text": [
      "enter any number-10\n",
      "number is negative\n"
     ]
    }
   ],
   "source": [
    "#write a program to check whwther number is positive,negative, and zero\n",
    "n = int(input('enter any number'))\n",
    "if n>0:\n",
    "    print(\"number is positive\")\n",
    "elif n<0:\n",
    "     print(\"number is negative\")\n",
    "else:\n",
    "    print('number is zero')"
   ]
  },
  {
   "cell_type": "code",
   "execution_count": 24,
   "id": "2b6d545c",
   "metadata": {},
   "outputs": [
    {
     "name": "stdout",
     "output_type": "stream",
     "text": [
      "hindi marks: 98\n",
      "telugu marks: 66\n",
      "english marks: 99\n",
      "maths marks: 100\n",
      "science marks: 97\n",
      "total marks= 460 percentage= 92.0\n",
      "A grade: 92.0\n"
     ]
    }
   ],
   "source": [
    "# write a program to calculate total marks and percentage of given 5 subjects\n",
    "#per>=80=a grade:\n",
    "#per>=60=b grade:\n",
    "#per>=40=c garde:\n",
    "#per<40=d garde:\n",
    "a=int(input(\"hindi marks: \"))\n",
    "b=int(input('telugu marks: '))\n",
    "c=int(input('english marks: '))\n",
    "d=int(input('maths marks: '))\n",
    "e=int(input('science marks: '))\n",
    "total = a+b+c+d+e\n",
    "percentage = (total/500)*100\n",
    "print('total marks=',total,'percentage=',percentage)\n",
    "if percentage >=80:\n",
    "    print(\"A grade:\",percentage)\n",
    "elif percentage >=60:\n",
    "       print(\"B grade:\",percentage)\n",
    "elif percentage >=40:\n",
    "       print(\"c grade:\",percentage)\n",
    "else:\n",
    "    print('D grade:',percentage)\n",
    "    "
   ]
  },
  {
   "cell_type": "code",
   "execution_count": 30,
   "id": "f0ca4bc6",
   "metadata": {},
   "outputs": [
    {
     "name": "stdout",
     "output_type": "stream",
     "text": [
      "enter 1st number: 89\n",
      "enter 2nd number: 96\n",
      "enter 3rd number: 85\n",
      "a is middle number:  89\n"
     ]
    }
   ],
   "source": [
    "#write a program to find a middle number in a group of 3 numbers\n",
    "a=int(input(\"enter 1st number: \" ))\n",
    "b=int(input(\"enter 2nd number: \"))\n",
    "c=int(input(\"enter 3rd number: \"))\n",
    "if (a>b and a<c) or (a<b and a>c):\n",
    "    print('a is middle number: ',a)\n",
    "elif(b>a and b<c) or (b<a and b>c):\n",
    "    print(\"b is middle number: \",b)\n",
    "else:\n",
    "    print(\"c is middle number: \",c)"
   ]
  },
  {
   "cell_type": "markdown",
   "id": "b5be4ffa",
   "metadata": {},
   "source": [
    "# while loop tutorials\n"
   ]
  },
  {
   "cell_type": "code",
   "execution_count": 39,
   "id": "134ef194",
   "metadata": {},
   "outputs": [
    {
     "name": "stdout",
     "output_type": "stream",
     "text": [
      "1\n",
      "2\n",
      "3\n",
      "4\n",
      "5\n",
      "6\n",
      "7\n",
      "8\n",
      "9\n",
      "10\n"
     ]
    }
   ],
   "source": [
    "#write a program to ptint from 1 to 10:\n",
    "i = 1\n",
    "while i<=10:\n",
    "    print(i)\n",
    "    i=i+1"
   ]
  },
  {
   "cell_type": "code",
   "execution_count": 42,
   "id": "592ba948",
   "metadata": {},
   "outputs": [
    {
     "name": "stdout",
     "output_type": "stream",
     "text": [
      "enter the number: 8\n",
      "1\n",
      "2\n",
      "3\n",
      "4\n",
      "5\n",
      "6\n",
      "7\n",
      "8\n"
     ]
    }
   ],
   "source": [
    "#write a program to ptint from 1 to n:\n",
    "n=int(input(\"enter the number: \"))\n",
    "i=1\n",
    "while i<=n:\n",
    "    print(i)\n",
    "    i=i+1"
   ]
  },
  {
   "cell_type": "code",
   "execution_count": 43,
   "id": "bd7e5e42",
   "metadata": {},
   "outputs": [
    {
     "name": "stdout",
     "output_type": "stream",
     "text": [
      "10\n",
      "9\n",
      "8\n",
      "7\n",
      "6\n",
      "5\n",
      "4\n",
      "3\n",
      "2\n",
      "1\n"
     ]
    }
   ],
   "source": [
    "#write a program to ptint from 10 to 1:\n",
    "i=10\n",
    "while i>=1:\n",
    "    print(i)\n",
    "    i=i-1"
   ]
  },
  {
   "cell_type": "code",
   "execution_count": 44,
   "id": "f29a9b55",
   "metadata": {},
   "outputs": [
    {
     "name": "stdout",
     "output_type": "stream",
     "text": [
      "enter any number: 18\n",
      "18\n",
      "17\n",
      "16\n",
      "15\n",
      "14\n",
      "13\n",
      "12\n",
      "11\n",
      "10\n",
      "9\n",
      "8\n",
      "7\n",
      "6\n",
      "5\n",
      "4\n",
      "3\n",
      "2\n",
      "1\n"
     ]
    }
   ],
   "source": [
    "#write a program to ptint from n to 1:\n",
    "n=int(input('enter any number: '))\n",
    "while n>=1:\n",
    "    print(n)\n",
    "    n=n-1"
   ]
  },
  {
   "cell_type": "code",
   "execution_count": 47,
   "id": "85ae37a3",
   "metadata": {},
   "outputs": [
    {
     "name": "stdout",
     "output_type": "stream",
     "text": [
      "enter any number: 5\n",
      "sum is: 15\n"
     ]
    }
   ],
   "source": [
    "#write a program to find sum of numbers from 1 to n:\n",
    "n=int(input('enter any number: '))\n",
    "i=1\n",
    "sum=0\n",
    "while i<=n:\n",
    "    sum=sum+i\n",
    "    i=i+1\n",
    "print(\"sum is:\",sum)"
   ]
  },
  {
   "cell_type": "code",
   "execution_count": 48,
   "id": "0e0389ad",
   "metadata": {},
   "outputs": [
    {
     "name": "stdout",
     "output_type": "stream",
     "text": [
      "enter any number: 5\n",
      "sum is:  55\n"
     ]
    }
   ],
   "source": [
    "#write a program to find sum of square numbers from 1 to n:\n",
    "n=int(input('enter any number: '))\n",
    "sum=0\n",
    "i=1\n",
    "while i<=n:\n",
    "    sum=sum+(i*i)\n",
    "    i=i+1\n",
    "print(\"sum is: \",sum)"
   ]
  },
  {
   "cell_type": "code",
   "execution_count": 49,
   "id": "162a5c34",
   "metadata": {},
   "outputs": [
    {
     "name": "stdout",
     "output_type": "stream",
     "text": [
      "enter any number: 20\n",
      "2\n",
      "4\n",
      "6\n",
      "8\n",
      "10\n",
      "12\n",
      "14\n",
      "16\n",
      "18\n",
      "20\n"
     ]
    }
   ],
   "source": [
    "#write a program to print only even numbers between 1 to n\n",
    "n=int(input('enter any number: '))\n",
    "i=2\n",
    "while i<=n:\n",
    "    print(i)\n",
    "    i=i+2"
   ]
  },
  {
   "cell_type": "code",
   "execution_count": 50,
   "id": "88adbb53",
   "metadata": {},
   "outputs": [
    {
     "name": "stdout",
     "output_type": "stream",
     "text": [
      "enter any number: 20\n",
      "2\n",
      "4\n",
      "6\n",
      "8\n",
      "10\n",
      "12\n",
      "14\n",
      "16\n",
      "18\n",
      "20\n"
     ]
    }
   ],
   "source": [
    "#write a program to print only even numbers between 1 to n\n",
    "n=int(input('enter any number: '))\n",
    "i=1\n",
    "while i<=n:\n",
    "    if i%2==0:\n",
    "        print(i)\n",
    "    i=i+1"
   ]
  },
  {
   "cell_type": "code",
   "execution_count": 52,
   "id": "c4cb069a",
   "metadata": {},
   "outputs": [
    {
     "name": "stdout",
     "output_type": "stream",
     "text": [
      "enter any number15\n",
      "sum of even numbers: 56\n"
     ]
    }
   ],
   "source": [
    "#write a program to print sum of even numbers between 1 to n\n",
    "n=int(input('enter any number'))\n",
    "i=1\n",
    "sum=0\n",
    "while i<=n:\n",
    "    if i%2==0:\n",
    "        sum=sum+i\n",
    "    i=i+1\n",
    "print('sum of even numbers:',sum)"
   ]
  },
  {
   "cell_type": "code",
   "execution_count": 55,
   "id": "e357c704",
   "metadata": {},
   "outputs": [
    {
     "name": "stdout",
     "output_type": "stream",
     "text": [
      "enter any number15\n",
      "sum of even numbers: 56\n"
     ]
    }
   ],
   "source": [
    "#write a program to print only even numbers between 1 to n\n",
    "n=int(input('enter any number'))\n",
    "i=2\n",
    "sum=0\n",
    "while i<=n:\n",
    "    sum=sum+i\n",
    "    i=i+2\n",
    "print('sum of even numbers:',sum)"
   ]
  },
  {
   "cell_type": "code",
   "execution_count": 64,
   "id": "234cc71f",
   "metadata": {},
   "outputs": [
    {
     "name": "stdout",
     "output_type": "stream",
     "text": [
      "enter any number3\n",
      "sum of even numbers is : 8\n"
     ]
    }
   ],
   "source": [
    "#write a program to find sum of first n even numbers\n",
    "n=int(input('enter any number'))\n",
    "i=2\n",
    "count=0\n",
    "sum=0\n",
    "while count<=n:\n",
    "    sum=sum+i\n",
    "    count=count+1\n",
    "i=i+2\n",
    "print('sum of even numbers is :',sum)"
   ]
  },
  {
   "cell_type": "code",
   "execution_count": null,
   "id": "dce86d9a",
   "metadata": {},
   "outputs": [],
   "source": []
  }
 ],
 "metadata": {
  "kernelspec": {
   "display_name": "Python 3 (ipykernel)",
   "language": "python",
   "name": "python3"
  },
  "language_info": {
   "codemirror_mode": {
    "name": "ipython",
    "version": 3
   },
   "file_extension": ".py",
   "mimetype": "text/x-python",
   "name": "python",
   "nbconvert_exporter": "python",
   "pygments_lexer": "ipython3",
   "version": "3.9.7"
  }
 },
 "nbformat": 4,
 "nbformat_minor": 5
}
