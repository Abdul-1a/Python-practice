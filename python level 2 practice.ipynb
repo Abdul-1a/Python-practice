{
 "cells": [
  {
   "cell_type": "code",
   "execution_count": 2,
   "id": "3ea8681d",
   "metadata": {},
   "outputs": [
    {
     "name": "stdout",
     "output_type": "stream",
     "text": [
      "enter the number: 273\n",
      "sum of number is = 12\n"
     ]
    }
   ],
   "source": [
    "#write a program to print sum of digits of a given number\n",
    "i = int(input('enter the number: '))\n",
    "sum = 0\n",
    "while i >0:\n",
    "    sum=sum+i%10\n",
    "    i=i//10\n",
    "print('sum of number is =',sum)"
   ]
  },
  {
   "cell_type": "code",
   "execution_count": 3,
   "id": "4b7e7e6b",
   "metadata": {},
   "outputs": [
    {
     "name": "stdout",
     "output_type": "stream",
     "text": [
      "enter the number: 273\n",
      "sum of square number is = 62\n"
     ]
    }
   ],
   "source": [
    "#write a program to print sum of square of digits of agiven number\n",
    "i = int(input('enter the number: '))\n",
    "sum = 0\n",
    "while i>0:\n",
    "    sum=sum+(i%10)*(i%10)\n",
    "    i=i//10\n",
    "print('sum of square number is =',sum)"
   ]
  },
  {
   "cell_type": "code",
   "execution_count": 6,
   "id": "dac1392f",
   "metadata": {},
   "outputs": [
    {
     "name": "stdout",
     "output_type": "stream",
     "text": [
      "enter the number278\n",
      "sum of cube number is = 863\n"
     ]
    }
   ],
   "source": [
    "#write a program to print sum of cube of digits of agiven number\n",
    "i = int(input('enter the number'))\n",
    "sum = 0\n",
    "while i>0:\n",
    "    sum=sum+(i%10)*(i%10)*(i%10)\n",
    "    i=i//10\n",
    "print('sum of cube number is =',sum)"
   ]
  },
  {
   "cell_type": "code",
   "execution_count": 11,
   "id": "402d8a22",
   "metadata": {},
   "outputs": [
    {
     "name": "stdout",
     "output_type": "stream",
     "text": [
      "enter the number153\n",
      "number is not armstrong\n"
     ]
    }
   ],
   "source": [
    "#write a program to print a number is armstrong or notarmstrong\n",
    "i=int(input('enter the number'))\n",
    "orig=i\n",
    "sum=0\n",
    "while (i>0):\n",
    "    sum=sum+(i%10)*(i%10)*(1%10)\n",
    "    i=i//10\n",
    "if org==sum:\n",
    "    print('number is armstrong')\n",
    "else:\n",
    "    print('number is not armstrong')"
   ]
  },
  {
   "cell_type": "code",
   "execution_count": 13,
   "id": "956d520d",
   "metadata": {},
   "outputs": [
    {
     "name": "stdout",
     "output_type": "stream",
     "text": [
      "enter the number153\n",
      "number is not armstrong\n"
     ]
    }
   ],
   "source": [
    "i=int(input(\"enter the number\"))\n",
    "orig=i\n",
    "sum=0\n",
    "while (i>0):\n",
    "    sum=sum+(i%10)*(i%10)*(1%10)\n",
    "    i=i//10\n",
    "if orig==sum:\n",
    "    print(\"number is armstrong\")\n",
    "else:\n",
    "    print('number is not armstrong')"
   ]
  },
  {
   "cell_type": "code",
   "execution_count": 19,
   "id": "4491d35f",
   "metadata": {},
   "outputs": [
    {
     "name": "stdout",
     "output_type": "stream",
     "text": [
      "enter the number153\n",
      "number is armstrong\n"
     ]
    }
   ],
   "source": [
    "n=int(input(\"enter the number\"))\n",
    "i=n\n",
    "count=0\n",
    "while (i>0):\n",
    "    count=count+1\n",
    "    i=i//10\n",
    "sum=0\n",
    "i=n\n",
    "while (i>0):\n",
    "    digit=i%10\n",
    "    x=1\n",
    "    pro=1\n",
    "    while (x<=count):\n",
    "        pro=pro*digit\n",
    "        x=x+1\n",
    "    sum=sum+pro\n",
    "    i=i//10\n",
    "if (sum==n):\n",
    "    print(\"number is armstrong\")\n",
    "else:\n",
    "    print(\"not armstrong\")"
   ]
  },
  {
   "cell_type": "code",
   "execution_count": 21,
   "id": "479a406b",
   "metadata": {},
   "outputs": [
    {
     "name": "stdout",
     "output_type": "stream",
     "text": [
      "enter the number274\n",
      "product of digits is  56\n"
     ]
    }
   ],
   "source": [
    "#write a program to find product of given digit numbers\n",
    "i = int(input(\"enter the number\"))\n",
    "prod=1\n",
    "while i>0:\n",
    "    prod=prod*(i%10)\n",
    "    i=i//10\n",
    "print(\"product of digits is \",prod)"
   ]
  },
  {
   "cell_type": "code",
   "execution_count": 22,
   "id": "d1d4864c",
   "metadata": {},
   "outputs": [
    {
     "name": "stdout",
     "output_type": "stream",
     "text": [
      "enter the number123\n",
      "reverse number is  321\n"
     ]
    }
   ],
   "source": [
    "#write a program to find reverse of given digit numbers\n",
    "i = int(input(\"enter the number\"))\n",
    "rev=0\n",
    "while i>0:\n",
    "    rev=rev*10+i%10\n",
    "    i=i//10\n",
    "print(\"reverse number is \",rev)"
   ]
  },
  {
   "cell_type": "code",
   "execution_count": 25,
   "id": "5ec220c8",
   "metadata": {},
   "outputs": [
    {
     "name": "stdout",
     "output_type": "stream",
     "text": [
      "enter any number252\n",
      "number is palindrome\n"
     ]
    }
   ],
   "source": [
    "#write a program to check a number is palindrome or not \n",
    "i = int(input('enter any number'))\n",
    "x=i\n",
    "rev=0\n",
    "while i>0:\n",
    "    rev=rev*10+i%10\n",
    "    i=i//10\n",
    "if x==rev:\n",
    "    print('number is palindrome')\n",
    "else:\n",
    "    print('number is not palindrome')"
   ]
  },
  {
   "cell_type": "code",
   "execution_count": 10,
   "id": "0ec0a994",
   "metadata": {},
   "outputs": [
    {
     "name": "stdout",
     "output_type": "stream",
     "text": [
      "enter any number10\n",
      "composite number\n"
     ]
    }
   ],
   "source": [
    "#write a program to check number is prime or composite\n",
    "n=int(input(\"enter any number\"))\n",
    "i=1\n",
    "count=0\n",
    "while i<=n:\n",
    "    if(n%i==0):\n",
    "        count=count+1\n",
    "    i=i+1\n",
    "if(count==2):\n",
    "    print(\"number is prime\")\n",
    "else:\n",
    "    print(\"composite number\")"
   ]
  },
  {
   "cell_type": "code",
   "execution_count": 12,
   "id": "8e8e675a",
   "metadata": {},
   "outputs": [
    {
     "name": "stdout",
     "output_type": "stream",
     "text": [
      "enter any number5\n",
      "factorial of given number is : 120\n"
     ]
    }
   ],
   "source": [
    "#write a program to find factorial of a number\n",
    "n=int(input('enter any number'))\n",
    "fact=1\n",
    "while n>0:\n",
    "    fact=fact*n\n",
    "    n=n-1\n",
    "print(\"factorial of given number is :\",fact)\n",
    "    "
   ]
  },
  {
   "cell_type": "code",
   "execution_count": 20,
   "id": "f3d21046",
   "metadata": {},
   "outputs": [
    {
     "name": "stdout",
     "output_type": "stream",
     "text": [
      "enter any number10\n",
      "0\n",
      "1\n",
      "1\n",
      "2\n",
      "3\n",
      "5\n",
      "8\n"
     ]
    }
   ],
   "source": [
    "#write a program to print fibonacci of a given number\n",
    "n=int(input('enter any number'))\n",
    "x=0\n",
    "y=1\n",
    "z=0\n",
    "while z<=n:\n",
    "    print(z)\n",
    "    x=y\n",
    "    y=z\n",
    "    z=x+y\n",
    "    "
   ]
  },
  {
   "cell_type": "code",
   "execution_count": null,
   "id": "442f7450",
   "metadata": {},
   "outputs": [],
   "source": []
  }
 ],
 "metadata": {
  "kernelspec": {
   "display_name": "Python 3 (ipykernel)",
   "language": "python",
   "name": "python3"
  },
  "language_info": {
   "codemirror_mode": {
    "name": "ipython",
    "version": 3
   },
   "file_extension": ".py",
   "mimetype": "text/x-python",
   "name": "python",
   "nbconvert_exporter": "python",
   "pygments_lexer": "ipython3",
   "version": "3.9.7"
  }
 },
 "nbformat": 4,
 "nbformat_minor": 5
}
